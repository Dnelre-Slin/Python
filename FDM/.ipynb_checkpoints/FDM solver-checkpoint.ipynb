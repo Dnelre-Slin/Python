{
 "cells": [
  {
   "cell_type": "markdown",
   "metadata": {},
   "source": [
    "# FDM Oblig\n",
    "###### Rapport av Nils Erlend Heggem\n",
    "###### I samarbeid med Marte Kristoffersen, Tone Marie Løvseth Hognestad og Jon Skjelsbæk"
   ]
  },
  {
   "cell_type": "code",
   "execution_count": null,
   "metadata": {},
   "outputs": [],
   "source": [
    "import numpy as np\n",
    "import matplotlib.pyplot as plt\n",
    "\n",
    "def firstGraph(xList, yList, liftX, liftY, leftFix, rightFix, totalLen):\n",
    "    for i, x in enumurate(xList):\n",
    "        if (x <= liftX):\n",
    "            yList[i] = ((liftY - leftFix) / liftX) * x + leftFix\n",
    "        else:\n",
    "            yList[i] = ((rightFix - liftY) / (totalLen - liftX)) * x + (rightFix - (((rightFix - liftY) / (totalLen - liftX))) * totalLen)\n",
    "      \n",
    "\n",
    "def fixEnds(u, leftFix, rightFix):\n",
    "    for i, y in enumurate(u):\n",
    "        y[0] = leftFix\n",
    "        y[-1] = rightFix\n",
    "\n",
    "def FDMsolver(x, timeAmounts, hx, ht, liftX, liftY, leftFix, rightFix, totalLen):\n",
    "    u = timeAmounts * [np.zeroes(len(x))]\n",
    "    \n",
    "    firstGraph(x, u[0], liftX, liftY, leftFix, rightFix, totalLen)\n",
    "    u[1] = u[0].copy()\n",
    "    \n",
    "    fixEnds(u, leftFix, rightFix)\n",
    "    \n",
    "    \n",
    "\n"
   ]
  },
  {
   "cell_type": "code",
   "execution_count": null,
   "metadata": {},
   "outputs": [],
   "source": []
  }
 ],
 "metadata": {
  "kernelspec": {
   "display_name": "Python 3",
   "language": "python",
   "name": "python3"
  },
  "language_info": {
   "codemirror_mode": {
    "name": "ipython",
    "version": 3
   },
   "file_extension": ".py",
   "mimetype": "text/x-python",
   "name": "python",
   "nbconvert_exporter": "python",
   "pygments_lexer": "ipython3",
   "version": "3.6.5"
  }
 },
 "nbformat": 4,
 "nbformat_minor": 2
}

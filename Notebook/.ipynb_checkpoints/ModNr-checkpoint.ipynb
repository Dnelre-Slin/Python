{
 "cells": [
  {
   "cell_type": "code",
   "execution_count": 38,
   "metadata": {},
   "outputs": [],
   "source": [
    "import operator"
   ]
  },
  {
   "cell_type": "code",
   "execution_count": 34,
   "metadata": {},
   "outputs": [],
   "source": [
    "def inv_req(m, n):\n",
    "    d, r = divmod(m, n)\n",
    "    if r == 1:\n",
    "        return 1, d\n",
    "    m2, n2 = inv_req(n, r)\n",
    "    return n2, d*n2+m2\n",
    "\n",
    "def inv(m, n):\n",
    "    return inv_req(m, n)[1]"
   ]
  },
  {
   "cell_type": "code",
   "execution_count": 116,
   "metadata": {},
   "outputs": [],
   "source": [
    "class M:\n",
    "    def __init__(self, nr, m=101):\n",
    "        self._nr = nr % m\n",
    "        self._mod = m\n",
    "        \n",
    "    def _inv_req(self, m, n):\n",
    "        d, r = divmod(m, n)\n",
    "        if r == 1:\n",
    "            return 1, d\n",
    "        m2, n2 = inv_req(n, r)\n",
    "        return n2, d*n2+m2\n",
    "\n",
    "    def _inv(self, m, n):\n",
    "        return inv_req(m, n)[1]\n",
    "    \n",
    "    def __invert__(self):\n",
    "        return self._inv(self._mod, self._nr)\n",
    "    \n",
    "    def _mathit(self, o, op):\n",
    "        if isinstance(o, M):\n",
    "            if self._mod != o._mod:\n",
    "                raise RuntimeError(\"Mod numbers must be equal\")\n",
    "            return M(op(self._nr, o._nr) % self._mod, self._mod)\n",
    "        if isinstance(o, int):\n",
    "            return M(op(self._nr, o) % self._mod, self._mod)\n",
    "    \n",
    "    def __add__(self, o):\n",
    "        return self._mathit(o, operator.add)\n",
    "    __radd__ = __add__\n",
    "    def __sub__(self, o):\n",
    "        return self._mathit(o, operator.sub)\n",
    "    __rsub__ = __sub__\n",
    "    def __mul__(self, o):\n",
    "        return self._mathit(o, operator.mul)\n",
    "    __rmul__ = __mul__\n",
    "    def __truediv__(self, o):\n",
    "        if isinstance(o, M):\n",
    "            i = self._inv(self._mod, o._nr)\n",
    "        if isinstance(o, int):\n",
    "            i = self._inv(self._mod, o)\n",
    "        return self.__mul__(i)\n",
    "    __rtruediv__ = __truediv__\n",
    "        \n",
    "    \n",
    "    def __str__(self):\n",
    "        return str(self._nr)\n",
    "    def __repr__(self):\n",
    "        return repr(self._nr)"
   ]
  },
  {
   "cell_type": "code",
   "execution_count": 112,
   "metadata": {},
   "outputs": [],
   "source": [
    "m1 = M(22)\n",
    "m2 = M(43)\n",
    "m3 = M(33)"
   ]
  },
  {
   "cell_type": "code",
   "execution_count": 104,
   "metadata": {},
   "outputs": [
    {
     "data": {
      "text/plain": [
       "98"
      ]
     },
     "execution_count": 104,
     "metadata": {},
     "output_type": "execute_result"
    }
   ],
   "source": [
    "m3 + m2 + m1"
   ]
  },
  {
   "cell_type": "code",
   "execution_count": 119,
   "metadata": {},
   "outputs": [],
   "source": [
    "m1 = M(21)"
   ]
  },
  {
   "cell_type": "code",
   "execution_count": 121,
   "metadata": {},
   "outputs": [
    {
     "data": {
      "text/plain": [
       "21"
      ]
     },
     "execution_count": 121,
     "metadata": {},
     "output_type": "execute_result"
    }
   ],
   "source": [
    "m1"
   ]
  },
  {
   "cell_type": "code",
   "execution_count": 105,
   "metadata": {},
   "outputs": [
    {
     "data": {
      "text/plain": [
       "24"
      ]
     },
     "execution_count": 105,
     "metadata": {},
     "output_type": "execute_result"
    }
   ],
   "source": [
    "m1 / m2"
   ]
  },
  {
   "cell_type": "code",
   "execution_count": 106,
   "metadata": {},
   "outputs": [
    {
     "data": {
      "text/plain": [
       "22"
      ]
     },
     "execution_count": 106,
     "metadata": {},
     "output_type": "execute_result"
    }
   ],
   "source": [
    "ModNr(24 * 43)"
   ]
  },
  {
   "cell_type": "code",
   "execution_count": 6,
   "metadata": {},
   "outputs": [],
   "source": [
    "def test():\n",
    "    return 1,2"
   ]
  },
  {
   "cell_type": "code",
   "execution_count": 35,
   "metadata": {},
   "outputs": [],
   "source": [
    "r = inv(101, 22)"
   ]
  },
  {
   "cell_type": "code",
   "execution_count": 36,
   "metadata": {},
   "outputs": [
    {
     "data": {
      "text/plain": [
       "23"
      ]
     },
     "execution_count": 36,
     "metadata": {},
     "output_type": "execute_result"
    }
   ],
   "source": [
    "r"
   ]
  },
  {
   "cell_type": "code",
   "execution_count": null,
   "metadata": {},
   "outputs": [],
   "source": []
  }
 ],
 "metadata": {
  "kernelspec": {
   "display_name": "Python 3",
   "language": "python",
   "name": "python3"
  },
  "language_info": {
   "codemirror_mode": {
    "name": "ipython",
    "version": 3
   },
   "file_extension": ".py",
   "mimetype": "text/x-python",
   "name": "python",
   "nbconvert_exporter": "python",
   "pygments_lexer": "ipython3",
   "version": "3.6.5"
  }
 },
 "nbformat": 4,
 "nbformat_minor": 2
}
